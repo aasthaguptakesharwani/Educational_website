{
 "cells": [
  {
   "cell_type": "code",
   "execution_count": 2,
   "id": "4a20bf12-4a40-4a12-b68b-b2fff0eb54cd",
   "metadata": {},
   "outputs": [
    {
     "name": "stdout",
     "output_type": "stream",
     "text": [
      "10 <class 'int'>\n",
      "10.5 <class 'float'>\n",
      "(10+20j) <class 'complex'>\n"
     ]
    }
   ],
   "source": [
    "#DATATYPE \n",
    "\n",
    "#Numeric :- int,flaot,complex\n",
    "\n",
    "a=10;\n",
    "b=10.5;\n",
    "c=10+20j;\n",
    "print(a,type(a))\n",
    "print(b,type(b))\n",
    "print(c,type(c))\n",
    "\n"
   ]
  },
  {
   "cell_type": "code",
   "execution_count": 1,
   "id": "fa0cac47-6673-47f3-bd8f-fb3114ff9b15",
   "metadata": {},
   "outputs": [
    {
     "name": "stdout",
     "output_type": "stream",
     "text": [
      "welcome to cybrom\n",
      "<class 'str'>\n",
      "w\n"
     ]
    },
    {
     "ename": "TypeError",
     "evalue": "'str' object does not support item assignment",
     "output_type": "error",
     "traceback": [
      "\u001b[1;31m---------------------------------------------------------------------------\u001b[0m",
      "\u001b[1;31mTypeError\u001b[0m                                 Traceback (most recent call last)",
      "Cell \u001b[1;32mIn[1], line 9\u001b[0m\n\u001b[0;32m      7\u001b[0m \u001b[38;5;28mprint\u001b[39m(\u001b[38;5;28mtype\u001b[39m(s))\n\u001b[0;32m      8\u001b[0m \u001b[38;5;28mprint\u001b[39m(s[\u001b[38;5;241m0\u001b[39m])\n\u001b[1;32m----> 9\u001b[0m s[\u001b[38;5;241m0\u001b[39m]\u001b[38;5;241m=\u001b[39m\u001b[38;5;124m\"\u001b[39m\u001b[38;5;124mh\u001b[39m\u001b[38;5;124m\"\u001b[39m\n\u001b[0;32m     10\u001b[0m \u001b[38;5;28mprint\u001b[39m(s)\n",
      "\u001b[1;31mTypeError\u001b[0m: 'str' object does not support item assignment"
     ]
    }
   ],
   "source": [
    "#String  - single line   \".'\n",
    "#Ordered sequence of character\n",
    "#Immutable and Index\n",
    "\n",
    "s=\"welcome to cybrom\"\n",
    "print(s)\n",
    "print(type(s))\n",
    "print(s[0])\n",
    "s[0]=\"h\"\n",
    "print(s)"
   ]
  },
  {
   "cell_type": "code",
   "execution_count": 1,
   "id": "02861b52-cef2-4fb9-a6bf-b5d3c474dd17",
   "metadata": {},
   "outputs": [
    {
     "name": "stdout",
     "output_type": "stream",
     "text": [
      "   welcome \n",
      "to\n",
      "bhopal\n",
      "<class 'str'>\n"
     ]
    }
   ],
   "source": [
    "#String :- Miltiline   \"'\n",
    "\n",
    "s= '''   welcome \n",
    "to\n",
    "bhopal'''\n",
    "print(s)\n",
    "print(type(s))"
   ]
  },
  {
   "cell_type": "code",
   "execution_count": 5,
   "id": "ebe9ccf7-e6a2-49a7-bb6d-9d9b3b4f44d9",
   "metadata": {},
   "outputs": [
    {
     "name": "stdout",
     "output_type": "stream",
     "text": [
      "[10, 20, 10.6, 'h', 'hello'] <class 'list'>\n",
      "10\n",
      "[[10, 20, 30], 20, 10.6, 'h', 'hello']\n",
      "20\n"
     ]
    }
   ],
   "source": [
    "#List  -   []\n",
    "# Collection of elements denoted by [] with comma seperated value\n",
    "# Ordered sequence\n",
    "# Mutable\n",
    "# Index\n",
    "# Hetrogenous nature\n",
    "\n",
    "l=[10,20,10.6,\"h\",\"hello\"]\n",
    "print(l,type(l))\n",
    "print(l[0])\n",
    "l[0]=[10,20,30]\n",
    "print(l)\n",
    "print(l[0][1])\n"
   ]
  },
  {
   "cell_type": "code",
   "execution_count": 1,
   "id": "cc6de7e9-b99a-4c22-b5e9-3f4f5948bbaf",
   "metadata": {},
   "outputs": [
    {
     "name": "stdout",
     "output_type": "stream",
     "text": [
      "[10, 20, 10.6, 'h', 'hello'] <class 'list'>\n",
      "10\n",
      "[[10, 20, 30], 20, 10.6, 'h', 'hello']\n",
      "20\n",
      "['cybrom', 20, 10.6, 'h', 'hello']\n"
     ]
    }
   ],
   "source": [
    "#Tuple   -  ()\n",
    "# Coleection of elements denoted by [] with comma seperated value\n",
    "# Ordered sequence\n",
    "# Immutable\n",
    "# Indexed\n",
    "# Hetrogenous nature\n",
    "\n",
    "\n",
    "l=[10,20,10.6,\"h\",\"hello\"]\n",
    "print(l,type(l))\n",
    "print(l[0])\n",
    "l[0]=[10,20,30]\n",
    "print(l)\n",
    "print(l[0][1])\n",
    "l[0]=\"cybrom\"\n",
    "print(l)\n",
    "\n"
   ]
  },
  {
   "cell_type": "code",
   "execution_count": 11,
   "id": "ec854572-28d4-4072-94b4-01b1957bea40",
   "metadata": {},
   "outputs": [
    {
     "name": "stdout",
     "output_type": "stream",
     "text": [
      "{'name': 'abc', 'city': 'bhopal'} <class 'dict'>\n",
      "abc\n",
      "{'name': 'cybrom', 'city': 'bhopal'}\n"
     ]
    }
   ],
   "source": [
    "#Dictionary   -  {}\n",
    "# Colection of elements denoted by {k:v}\n",
    "# Ordered sequence\n",
    "# Mutable\n",
    "# UnIndex\n",
    "# Keys-unique and Value-duplicate\n",
    "\n",
    "d={\"name\":\"abc\" ,\"city\":\"bhopal\"}\n",
    "print(d,type(d))\n",
    "print(d[\"name\"])\n",
    "d[\"name\"]=\"cybrom\"\n",
    "print(d)"
   ]
  },
  {
   "cell_type": "code",
   "execution_count": 9,
   "id": "702f4dfd-56b3-44ee-a34b-27ed69d3646a",
   "metadata": {},
   "outputs": [
    {
     "name": "stdout",
     "output_type": "stream",
     "text": [
      "{'name': 'abc', 'city': 'bhopal', 'Name': 'cybrom'}\n"
     ]
    }
   ],
   "source": [
    "d={\"name\":\"abc\",\"city\":\"bhopal\"}\n",
    "d[\"Name\"]=\"cybrom\"\n",
    "print(d)"
   ]
  },
  {
   "cell_type": "code",
   "execution_count": 20,
   "id": "93b47140-d55e-4bd4-8e03-c020e2254455",
   "metadata": {},
   "outputs": [
    {
     "name": "stdout",
     "output_type": "stream",
     "text": [
      "{'name': ['abc', 'xyz', 'mnq'], 'city': ['bhopal', 'bhopal', 'indore']} <class 'dict'>\n",
      "['bhopal', 'bhopal', 'indore']\n",
      "bhopal\n",
      "{'name': ['abc', 'xyz', 'mnq'], 'city': ['bhopal', 'gwalior', 'indore']}\n"
     ]
    }
   ],
   "source": [
    "d={\"name\":[\"abc\",\"xyz\",\"mnq\"],\"city\":[\"bhopal\",\"bhopal\",\"indore\"]}\n",
    "print(d,type(d))\n",
    "print(d[\"city\"])\n",
    "print(d[\"city\"][1])\n",
    "d[\"city\"][1]=\"gwalior\"\n",
    "print(d)"
   ]
  },
  {
   "cell_type": "code",
   "execution_count": 22,
   "id": "ab553c92-592d-4cb9-a754-44d8d56977e0",
   "metadata": {},
   "outputs": [
    {
     "name": "stdout",
     "output_type": "stream",
     "text": [
      "{'name': ['abc', 'xyz', 'mnq'], 'city': ['bhopal', ['jabalpur', 'goa', 'gwalior'], 'indore']}\n"
     ]
    }
   ],
   "source": [
    "d={\"name\":[\"abc\",\"xyz\",\"mnq\"],\"city\":[\"bhopal\",[\"jabalpur\",\"goa\",\"patna\"],\"indore\"]}\n",
    "d[\"city\"][1][2]=\"gwalior\"\n",
    "print(d)"
   ]
  },
  {
   "cell_type": "code",
   "execution_count": 24,
   "id": "d209219a-03f1-4bca-9e83-3c083da55d2c",
   "metadata": {},
   "outputs": [
    {
     "name": "stdout",
     "output_type": "stream",
     "text": [
      "patna\n",
      "{'name': ['abc', 'xyz', 'mnq'], 'city': ['bhopal', ['jabalpur', 'goa', 'patna'], 'indore']}\n"
     ]
    }
   ],
   "source": [
    "d={\"name\":[\"abc\",\"xyz\",\"mnq\"],\"city\":[\"bhopal\",[\"jabalpur\",\"goa\",\"patna\"],\"indore\"]}\n",
    "print(d[\"city\"][1][2])\n",
    "print(d)"
   ]
  },
  {
   "cell_type": "code",
   "execution_count": 2,
   "id": "b4a06766-a514-459d-a790-696c5650254f",
   "metadata": {},
   "outputs": [
    {
     "name": "stdout",
     "output_type": "stream",
     "text": [
      "{10.5, 'hello', 101, 10, 'cybrom'} <class 'set'>\n",
      "{10.5, 'hello', 101, 1000, 10, 'cybrom'}\n"
     ]
    }
   ],
   "source": [
    "#Set:     {}\n",
    "#colection of unique element denoted by {} braces with comma seperated value\n",
    "#unordered and unindexed\n",
    "#hetrogenous nature and mutable\n",
    "\n",
    "\n",
    "s={10,10.5,\"hello\",\"cybrom\",10,10,10,101,10}\n",
    "print(s,type(s))\n",
    "s.add(1000)\n",
    "print(s)"
   ]
  },
  {
   "cell_type": "code",
   "execution_count": 3,
   "id": "5f02cdba-e373-45c2-b7f1-00b8d8f5fada",
   "metadata": {},
   "outputs": [
    {
     "name": "stdout",
     "output_type": "stream",
     "text": [
      "set() <class 'set'>\n"
     ]
    }
   ],
   "source": [
    "s=set()                  #set constructor\n",
    "print(s,type(s))"
   ]
  },
  {
   "cell_type": "code",
   "execution_count": 4,
   "id": "699d750a-48ba-41eb-b816-8957126b8aa4",
   "metadata": {
    "scrolled": true
   },
   "outputs": [
    {
     "name": "stdout",
     "output_type": "stream",
     "text": [
      "{10, 20, 30}\n"
     ]
    }
   ],
   "source": [
    "l=[10,20,30,10,20,20]\n",
    "print(set(l))"
   ]
  },
  {
   "cell_type": "code",
   "execution_count": 5,
   "id": "566a0c2e-7a9b-47d6-8209-230b6970dd17",
   "metadata": {},
   "outputs": [
    {
     "name": "stdout",
     "output_type": "stream",
     "text": [
      "(10, 20, 30, 10, 20, 20)\n"
     ]
    }
   ],
   "source": [
    "l=[10,20,30,10,20,20]\n",
    "print(tuple(l))"
   ]
  },
  {
   "cell_type": "code",
   "execution_count": 6,
   "id": "05fbaa48-a7b3-498a-ae1c-26e3fb79f7aa",
   "metadata": {},
   "outputs": [
    {
     "name": "stdin",
     "output_type": "stream",
     "text": [
      "enter 1st num : 10\n",
      "enter 2nd num : 20\n"
     ]
    },
    {
     "name": "stdout",
     "output_type": "stream",
     "text": [
      "1020\n"
     ]
    }
   ],
   "source": [
    "#input=takes input at runtime\n",
    "a=input(\"enter 1st num :\")\n",
    "b=input(\"enter 2nd num :\")\n",
    "c=a+b\n",
    "print(c)"
   ]
  },
  {
   "cell_type": "code",
   "execution_count": 7,
   "id": "391c0886-cc29-48a1-a1a6-ff3e9be3f8f8",
   "metadata": {},
   "outputs": [
    {
     "name": "stdin",
     "output_type": "stream",
     "text": [
      "enter 1st num : 10\n",
      "enter 2nd num : 20\n"
     ]
    },
    {
     "name": "stdout",
     "output_type": "stream",
     "text": [
      "30\n"
     ]
    }
   ],
   "source": [
    "a=int(input(\"enter 1st num :\"))\n",
    "b=int(input(\"enter 2nd num :\"))\n",
    "c=a+b\n",
    "print(c)"
   ]
  },
  {
   "cell_type": "code",
   "execution_count": 8,
   "id": "99e4715e-b6df-4ce5-bb66-e7ec21cb4694",
   "metadata": {},
   "outputs": [
    {
     "name": "stdin",
     "output_type": "stream",
     "text": [
      "enter 1st num : 10\n",
      "enter 2nd num : 20\n"
     ]
    },
    {
     "name": "stdout",
     "output_type": "stream",
     "text": [
      "30.0\n"
     ]
    }
   ],
   "source": [
    "a=float(input(\"enter 1st num :\"))\n",
    "b=float(input(\"enter 2nd num :\"))\n",
    "c=a+b\n",
    "print(c)"
   ]
  },
  {
   "cell_type": "code",
   "execution_count": 9,
   "id": "ddcc3855-1fac-4b30-94b5-e8d7fa226b7f",
   "metadata": {},
   "outputs": [
    {
     "name": "stdout",
     "output_type": "stream",
     "text": [
      "10 <class 'str'>\n",
      "10 <class 'int'>\n"
     ]
    }
   ],
   "source": [
    "a=\"10\"\n",
    "print(a,type(a))\n",
    "a=int(a)\n",
    "print(a,type(a))"
   ]
  },
  {
   "cell_type": "code",
   "execution_count": 11,
   "id": "4d93a0cd-e96a-4f85-9cc5-9056ae61c24e",
   "metadata": {},
   "outputs": [
    {
     "name": "stdin",
     "output_type": "stream",
     "text": [
      "enter 1st num : 10\n",
      "enter 2nd num : 10\n",
      "enter 3rd num : 10\n",
      "enter 4th num : 5\n"
     ]
    },
    {
     "name": "stdout",
     "output_type": "stream",
     "text": [
      "35 25 300 1.0\n"
     ]
    }
   ],
   "source": [
    "a=int(input(\"enter 1st num :\"))\n",
    "b=int(input(\"enter 2nd num :\"))\n",
    "c=int(input(\"enter 3rd num :\"))\n",
    "d=int(input(\"enter 4th num :\"))\n",
    "e=a+b+c+d\n",
    "f=(a+b+c)-d\n",
    "g=(a+b)*(c+d)\n",
    "h=a/b\n",
    "\n",
    "print(e,f,g,h)"
   ]
  },
  {
   "cell_type": "code",
   "execution_count": null,
   "id": "6dedefbf-3a4a-44ac-baa6-16e4bded59c0",
   "metadata": {},
   "outputs": [],
   "source": []
  }
 ],
 "metadata": {
  "kernelspec": {
   "display_name": "Python 3 (ipykernel)",
   "language": "python",
   "name": "python3"
  },
  "language_info": {
   "codemirror_mode": {
    "name": "ipython",
    "version": 3
   },
   "file_extension": ".py",
   "mimetype": "text/x-python",
   "name": "python",
   "nbconvert_exporter": "python",
   "pygments_lexer": "ipython3",
   "version": "3.11.7"
  }
 },
 "nbformat": 4,
 "nbformat_minor": 5
}
